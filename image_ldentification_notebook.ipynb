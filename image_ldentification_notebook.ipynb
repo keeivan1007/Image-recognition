{
 "cells": [
  {
   "cell_type": "code",
   "execution_count": 14,
   "metadata": {
    "collapsed": true
   },
   "outputs": [],
   "source": [
    "import cv2\n",
    "import numpy\n",
    "from PIL import Image"
   ]
  },
  {
   "cell_type": "code",
   "execution_count": 7,
   "metadata": {
    "collapsed": false
   },
   "outputs": [],
   "source": [
    "cv2.destroyWindow(\"frame\")"
   ]
  },
  {
   "cell_type": "code",
   "execution_count": 18,
   "metadata": {
    "collapsed": false
   },
   "outputs": [
    {
     "name": "stdout",
     "output_type": "stream",
     "text": [
      "案任意鍵建立使用者臉譜。\n",
      " 攝影機開啟後按「z」拍照！\n",
      "\n"
     ]
    },
    {
     "ename": "IndexError",
     "evalue": "tuple index out of range",
     "output_type": "error",
     "traceback": [
      "\u001b[0;31m---------------------------------------------------------------------------\u001b[0m",
      "\u001b[0;31mIndexError\u001b[0m                                Traceback (most recent call last)",
      "\u001b[0;32m<ipython-input-18-acdcc21cb96d>\u001b[0m in \u001b[0;36m<module>\u001b[0;34m()\u001b[0m\n\u001b[1;32m      1\u001b[0m \u001b[1;32mfrom\u001b[0m \u001b[0mimage_sign\u001b[0m \u001b[1;32mimport\u001b[0m \u001b[0mface_id\u001b[0m\u001b[1;33m\u001b[0m\u001b[0m\n\u001b[0;32m----> 2\u001b[0;31m \u001b[0mface_id\u001b[0m\u001b[1;33m(\u001b[0m\u001b[1;34m\"media\"\u001b[0m\u001b[1;33m,\u001b[0m\u001b[1;34m\"recogface\"\u001b[0m\u001b[1;33m,\u001b[0m\u001b[1;34m\"logingace\"\u001b[0m\u001b[1;33m)\u001b[0m\u001b[1;33m\u001b[0m\u001b[0m\n\u001b[0m",
      "\u001b[0;32mC:\\Users\\abcdq\\Python learn\\image_sign.py\u001b[0m in \u001b[0;36mface_id\u001b[0;34m(save_path, recogface, logingace)\u001b[0m\n\u001b[1;32m     42\u001b[0m         \u001b[0mmsg\u001b[0m \u001b[1;33m=\u001b[0m \u001b[1;34m\"案任意鍵建立使用者臉譜。\\n 攝影機開啟後按「z」拍照！\\n\"\u001b[0m\u001b[1;33m\u001b[0m\u001b[0m\n\u001b[1;32m     43\u001b[0m         \u001b[0mendstr\u001b[0m \u001b[1;33m=\u001b[0m \u001b[1;34m\"使用者臉譜建立完成！\"\u001b[0m\u001b[1;33m\u001b[0m\u001b[0m\n\u001b[0;32m---> 44\u001b[0;31m         \u001b[0mmakeFace\u001b[0m\u001b[1;33m(\u001b[0m\u001b[0mrecogname\u001b[0m\u001b[1;33m,\u001b[0m\u001b[0mmsg\u001b[0m\u001b[1;33m,\u001b[0m\u001b[0mendstr\u001b[0m\u001b[1;33m)\u001b[0m \u001b[1;31m#建立使用者臉部檔案\u001b[0m\u001b[1;33m\u001b[0m\u001b[0m\n\u001b[0m\u001b[1;32m     45\u001b[0m \u001b[1;33m\u001b[0m\u001b[0m\n\u001b[1;32m     46\u001b[0m \u001b[1;33m\u001b[0m\u001b[0m\n",
      "\u001b[0;32mC:\\Users\\abcdq\\Python learn\\image_sign.py\u001b[0m in \u001b[0;36mmakeFace\u001b[0;34m(facename, msg, endstr)\u001b[0m\n\u001b[1;32m     81\u001b[0m                 \u001b[0mimage\u001b[0m \u001b[1;33m=\u001b[0m \u001b[0mcv2\u001b[0m\u001b[1;33m.\u001b[0m\u001b[0mimread\u001b[0m\u001b[1;33m(\u001b[0m\u001b[0mfacename\u001b[0m\u001b[1;33m)\u001b[0m \u001b[1;31m#讀取做臉部辨識\u001b[0m\u001b[1;33m\u001b[0m\u001b[0m\n\u001b[1;32m     82\u001b[0m                 \u001b[0mfaces\u001b[0m \u001b[1;33m=\u001b[0m \u001b[0mfaceCascade\u001b[0m\u001b[1;33m.\u001b[0m\u001b[0mdetectMultiScale\u001b[0m\u001b[1;33m(\u001b[0m\u001b[0mimage\u001b[0m\u001b[1;33m,\u001b[0m\u001b[0mscaleFactor\u001b[0m\u001b[1;33m=\u001b[0m\u001b[1;36m1.1\u001b[0m\u001b[1;33m,\u001b[0m\u001b[0mminNeighbors\u001b[0m\u001b[1;33m=\u001b[0m\u001b[1;36m5\u001b[0m\u001b[1;33m,\u001b[0m\u001b[0mminSize\u001b[0m\u001b[1;33m=\u001b[0m\u001b[1;33m(\u001b[0m\u001b[1;36m30\u001b[0m\u001b[1;33m,\u001b[0m\u001b[1;36m30\u001b[0m\u001b[1;33m)\u001b[0m\u001b[1;33m,\u001b[0m\u001b[0mflags\u001b[0m\u001b[1;33m=\u001b[0m \u001b[0mcv2\u001b[0m\u001b[1;33m.\u001b[0m\u001b[0mCASCADE_SCALE_IMAGE\u001b[0m\u001b[1;33m)\u001b[0m\u001b[1;33m\u001b[0m\u001b[0m\n\u001b[0;32m---> 83\u001b[0;31m                 \u001b[1;33m(\u001b[0m\u001b[0mx\u001b[0m\u001b[1;33m,\u001b[0m \u001b[0my\u001b[0m\u001b[1;33m,\u001b[0m \u001b[0mw\u001b[0m\u001b[1;33m,\u001b[0m \u001b[0mh\u001b[0m\u001b[1;33m)\u001b[0m \u001b[1;33m=\u001b[0m\u001b[1;33m(\u001b[0m\u001b[0mfaces\u001b[0m\u001b[1;33m[\u001b[0m\u001b[1;36m0\u001b[0m\u001b[1;33m]\u001b[0m\u001b[1;33m[\u001b[0m\u001b[1;36m0\u001b[0m\u001b[1;33m]\u001b[0m\u001b[1;33m,\u001b[0m \u001b[0mfaces\u001b[0m\u001b[1;33m[\u001b[0m\u001b[1;36m0\u001b[0m\u001b[1;33m]\u001b[0m\u001b[1;33m[\u001b[0m\u001b[1;36m1\u001b[0m\u001b[1;33m]\u001b[0m\u001b[1;33m,\u001b[0m \u001b[0mfaces\u001b[0m\u001b[1;33m[\u001b[0m\u001b[1;36m0\u001b[0m\u001b[1;33m]\u001b[0m\u001b[1;33m[\u001b[0m\u001b[1;36m2\u001b[0m\u001b[1;33m]\u001b[0m\u001b[1;33m,\u001b[0m \u001b[0mfaces\u001b[0m\u001b[1;33m[\u001b[0m\u001b[1;36m0\u001b[0m\u001b[1;33m]\u001b[0m\u001b[1;33m[\u001b[0m\u001b[1;36m3\u001b[0m\u001b[1;33m]\u001b[0m\u001b[1;33m)\u001b[0m \u001b[1;31m#只取第一張臉部\u001b[0m\u001b[1;33m\u001b[0m\u001b[0m\n\u001b[0m\u001b[1;32m     84\u001b[0m \u001b[1;33m\u001b[0m\u001b[0m\n\u001b[1;32m     85\u001b[0m                 \u001b[0mimage1\u001b[0m \u001b[1;33m=\u001b[0m \u001b[0mImage\u001b[0m\u001b[1;33m.\u001b[0m\u001b[0mopen\u001b[0m\u001b[1;33m(\u001b[0m\u001b[0mfacename\u001b[0m\u001b[1;33m)\u001b[0m\u001b[1;33m.\u001b[0m\u001b[0mcrop\u001b[0m\u001b[1;33m(\u001b[0m\u001b[1;33m(\u001b[0m\u001b[0mx\u001b[0m\u001b[1;33m,\u001b[0m\u001b[0my\u001b[0m\u001b[1;33m,\u001b[0m\u001b[0mx\u001b[0m\u001b[1;33m+\u001b[0m\u001b[0mw\u001b[0m\u001b[1;33m,\u001b[0m\u001b[0my\u001b[0m\u001b[1;33m+\u001b[0m\u001b[0mh\u001b[0m\u001b[1;33m)\u001b[0m\u001b[1;33m)\u001b[0m \u001b[1;31m#擷取臉部\u001b[0m\u001b[1;33m\u001b[0m\u001b[0m\n",
      "\u001b[0;31mIndexError\u001b[0m: tuple index out of range"
     ]
    }
   ],
   "source": [
    "from image_sign import face_id\n",
    "face_id(\"media\",\"recogface\",\"logingace\")"
   ]
  },
  {
   "cell_type": "code",
   "execution_count": 114,
   "metadata": {
    "collapsed": true
   },
   "outputs": [
    {
     "data": {
      "text/plain": [
       "array([[[242, 254, 255],\n",
       "        [237, 249, 253],\n",
       "        [237, 249, 253],\n",
       "        ..., \n",
       "        [255, 255, 255],\n",
       "        [255, 255, 255],\n",
       "        [255, 255, 255]],\n",
       "\n",
       "       [[241, 253, 255],\n",
       "        [237, 249, 253],\n",
       "        [234, 246, 250],\n",
       "        ..., \n",
       "        [255, 255, 255],\n",
       "        [255, 255, 255],\n",
       "        [255, 255, 255]],\n",
       "\n",
       "       [[238, 250, 254],\n",
       "        [222, 234, 238],\n",
       "        [213, 224, 228],\n",
       "        ..., \n",
       "        [255, 255, 255],\n",
       "        [255, 255, 255],\n",
       "        [255, 255, 255]],\n",
       "\n",
       "       ..., \n",
       "       [[249, 249, 249],\n",
       "        [222, 222, 222],\n",
       "        [204, 205, 203],\n",
       "        ..., \n",
       "        [ 96,  94,  93],\n",
       "        [ 94,  92,  91],\n",
       "        [ 93,  91,  90]],\n",
       "\n",
       "       [[249, 249, 249],\n",
       "        [224, 224, 224],\n",
       "        [205, 206, 204],\n",
       "        ..., \n",
       "        [ 96,  94,  93],\n",
       "        [ 94,  92,  91],\n",
       "        [ 92,  90,  89]],\n",
       "\n",
       "       [[248, 248, 248],\n",
       "        [225, 225, 225],\n",
       "        [205, 205, 205],\n",
       "        ..., \n",
       "        [ 96,  94,  93],\n",
       "        [ 94,  92,  91],\n",
       "        [ 92,  90,  89]]], dtype=uint8)"
      ]
     },
     "execution_count": 114,
     "metadata": {},
     "output_type": "execute_result"
    }
   ],
   "source": [
    "# 線 image2 = cv2.line(image,(20,60),(300,400),(0,0,255),2)\n",
    "# 矩陣 image3 = cv2.rectangle(image,(20,60),(300,400),(255,0,0),1)\n",
    "# 圓形 image4 = cv2.circle(image,(300,300),40,(0,255,0),2)\n",
    "\n",
    "# 多邊形 pts = numpy.array([[20,60],[300,280],[150,200]],numpy.int32)\n",
    "#    cv2.polylines(image,[pts],True,(0,0,255),2)\n",
    "\n",
    "# 文字apple cv2.putText(image,\"apple\",(350,300),cv2.FONT_HERSHEY_SIMPLEX,1,(255,0,0),2)"
   ]
  },
  {
   "cell_type": "code",
   "execution_count": 2,
   "metadata": {
    "collapsed": false
   },
   "outputs": [],
   "source": [
    "\"\"\"\n",
    "purpose:放進圖片進行臉部辨識,並擷取所有辨識到的臉部存進指定資料夾,辨識建立圖片視窗並在右下註記抓取數\n",
    "\n",
    "input:欲辨識圖片之路徑,存放擷取辨識臉部圖之資料夾路徑,[臉部辨識指定演算法]\n",
    "\n",
    "output:彈出有抓取臉部之圖之視窗,並標記抓取數量；存放擷取臉部圖至指定資料夾\n",
    "\n",
    "\n",
    "casc_path為演算法指定預設路徑,如需要更改可在第三格寫入欲使用演算法之路徑\n",
    "\n",
    "casc_path = \"C:\\\\Users\\\\abcdq\\\\Anaconda3\\\\pkgs\\\\opencv3-3.1.0-py35_0\n",
    "\\\\Library\\\\etc\\\\haarcascades\\\\haarcascade_frontalface_default.xml\"\n",
    "\n",
    "cv2.rectangle:左下角文字區塊背景\n",
    "\n",
    "cv2.putText:左下角顯示抓到多少臉部之文字\n",
    "\n",
    "自訂方法:save_faces()\n",
    "\n",
    "ex:catch_face(\"test01.jpg\",\"media\")\n",
    "\n",
    "\"\"\"\n",
    "def catch_face(picture_path,folder_name,casc_path = \"C:\\\\Users\\\\abcdq\\\\Anaconda3\\\\pkgs\\\\opencv3-3.1.0-py35_0\\\\Library\\\\etc\\\\haarcascades\\\\haarcascade_frontalface_default.xml\"):\n",
    "    \n",
    "    import cv2\n",
    "    import numpy\n",
    "    from PIL import Image\n",
    "    \n",
    "    #路徑取得演算法\n",
    "    faceCascade = cv2.CascadeClassifier(casc_path) #建立辨識物件-演算法\n",
    "    imagename = cv2.imread(picture_path) #圖片路徑\n",
    "\n",
    "    faces = faceCascade.detectMultiScale(imagename,scaleFactor=1.1,minNeighbors=9,minSize=(30,30),flags =cv2.CASCADE_SCALE_IMAGE)\n",
    "    #faces 辨識結果，臉部位置的array\n",
    "    \"\"\"\n",
    "    scaleFactor 辨識原理是系統已不同區塊大小對圖片掃描進行特徵對，此參數設定區塊的改變倍數，如無特別需求一般設1.1\n",
    "    ninNeighbors 此為控制誤檢率參數 系統已不同區塊進行特徵比對時，在不同區塊可能會多次成功取得特徵，成功取得\n",
    "                成功取得特徵須達到此參數設地值才算辨識成功，預設值為3           \n",
    "    minSize,maxSize 為參數設定最小,最大辨識區塊\n",
    "\n",
    "    flags 此參數設定檢定模式，可能值有:\n",
    "    1.cv2.CV_HAAR_SCALE_IMAGE :按比例正常檢測\n",
    "    2.cv2.CV_HAAR_DO_CANNY_PRUNING :利用Canny 邊緣檢測器來排除依些邊緣很少或很多的圖像區塊\n",
    "    3.cv2.CV_HAAR_FIND_BIGGEST_OBJECT:只檢定最大的物體\n",
    "    4.cv2.CV_HARR_DO_ROUGH_SEARCH:只做粗略檢測\n",
    "    \"\"\"\n",
    "    cv2.rectangle(imagename, (10,imagename.shape[0]-20),(110,imagename.shape[0]),(0,0,0),-1)\n",
    "    #文字背景區塊\n",
    "    cv2.putText(imagename,\"Find\"+str(len(faces))+\"faces!\",(10,imagename.shape[0]-5),cv2.FONT_HERSHEY_SIMPLEX,0.5,(255,255,255),2)\n",
    "    #文字顯示有多少臉辨識出來\n",
    "\n",
    "    save_faces(faces,imagename,picture_path,folder_name) #1臉位置判別array 2圖片讀取檔案 3檔名路徑 4存取資料夾\n",
    "    #自訂方法,把辨識出臉來的區塊擷取成圖片存進資料夾\n",
    "\n",
    "    cv2.namedWindow(\"facedetect\") #開啟視窗\n",
    "    cv2.imshow(\"facedetect\",imagename) #繪製好的圖片放進視窗\n",
    "    cv2.waitKey(0) #等待0秒\n",
    "    cv2.destroyWindow(\"facedetect\") #關閉視窗"
   ]
  },
  {
   "cell_type": "code",
   "execution_count": 4,
   "metadata": {
    "collapsed": false
   },
   "outputs": [],
   "source": [
    "\"\"\"\n",
    "purpose:抓出辨識臉孔並存進資料夾 & 為照片上每張抓出辨識臉孔繪製矩陣      @支援catch_face()\n",
    "\n",
    "input:辨識出臉孔的位置群,正繪製的圖片檔案,欲辨識圖片的路徑,要存放擷取圖的資料夾路徑\n",
    "\n",
    "ouput:圖片繪製出辨識出的框,並擷取存放進指定資料夾\n",
    "\n",
    "image1.crop:擷取辨識出的臉孔\n",
    "\n",
    "image2.resize:限制繪製框的大小\n",
    "\n",
    "rectangle:繪製綠色的矩陣在圖片上\n",
    "\n",
    "\"\"\"\n",
    "def save_faces(faces,imagename,picture_path,folder_name):\n",
    "    \n",
    "    import cv2\n",
    "    import numpy\n",
    "    from PIL import Image\n",
    "    count = 1\n",
    "    for (x,y,w,h) in faces: \n",
    "        cv2.rectangle(imagename,(x,y),(x+w,y+h),(128,255,0),2)#繪製矩陣,綠色\n",
    "        filename = folder_name+\"\\\\face\" +str(count)+\".jpg\" #指定資料夾的圖片路徑\n",
    "        image1 = Image.open(picture_path)\n",
    "        image2 = image1.crop((x,y,x+w,y+h))#左上角xy座標,右下角座標wh座標\n",
    "        image3 = image2.resize((200,200), Image.ANTIALIAS)\n",
    "        \"\"\"\n",
    "        resize 不同圖片擷取大小不一，為了方便比對把圖形調整為固定大小 200x200\n",
    "        參數二維控制圖形品質：\n",
    "        lmage.NEAREST(最低品質,預設),lmage.BILINEAR(雙線性取樣算法)\n",
    "        ,lmage.BICUBIC(三次樣條取樣算法),lmage.ANTIALIAS(最高品質)\n",
    "        \n",
    "        \"\"\"\n",
    "        image3.save(filename) #(存進資料夾)\n",
    "        count += 1 #每辨識一張的結束加一"
   ]
  },
  {
   "cell_type": "code",
   "execution_count": 4,
   "metadata": {
    "collapsed": false
   },
   "outputs": [
    {
     "ename": "NameError",
     "evalue": "name 'numpy' is not defined",
     "output_type": "error",
     "traceback": [
      "\u001b[0;31m---------------------------------------------------------------------------\u001b[0m",
      "\u001b[0;31mNameError\u001b[0m                                 Traceback (most recent call last)",
      "\u001b[0;32m<ipython-input-4-7e876949be83>\u001b[0m in \u001b[0;36m<module>\u001b[0;34m()\u001b[0m\n\u001b[0;32m----> 1\u001b[0;31m \u001b[0mtext_image\u001b[0m\u001b[1;33m(\u001b[0m\u001b[1;34m\"test01.jpg\"\u001b[0m\u001b[1;33m,\u001b[0m\u001b[1;34m\"AAAA\"\u001b[0m\u001b[1;33m)\u001b[0m\u001b[1;33m\u001b[0m\u001b[0m\n\u001b[0m",
      "\u001b[0;32m<ipython-input-3-61b6932af9ba>\u001b[0m in \u001b[0;36mtext_image\u001b[0;34m(image_path, text)\u001b[0m\n\u001b[1;32m     15\u001b[0m     \u001b[1;32mimport\u001b[0m \u001b[0mcv2\u001b[0m\u001b[1;33m\u001b[0m\u001b[0m\n\u001b[1;32m     16\u001b[0m     \u001b[0mimage\u001b[0m \u001b[1;33m=\u001b[0m \u001b[0mcv2\u001b[0m\u001b[1;33m.\u001b[0m\u001b[0mimread\u001b[0m\u001b[1;33m(\u001b[0m\u001b[0mimage_path\u001b[0m\u001b[1;33m,\u001b[0m\u001b[1;36m1\u001b[0m\u001b[1;33m)\u001b[0m\u001b[1;33m\u001b[0m\u001b[0m\n\u001b[0;32m---> 17\u001b[0;31m     \u001b[0mpts\u001b[0m \u001b[1;33m=\u001b[0m \u001b[0mnumpy\u001b[0m\u001b[1;33m.\u001b[0m\u001b[0marray\u001b[0m\u001b[1;33m(\u001b[0m\u001b[1;33m[\u001b[0m\u001b[1;33m[\u001b[0m\u001b[1;36m20\u001b[0m\u001b[1;33m,\u001b[0m\u001b[1;36m60\u001b[0m\u001b[1;33m]\u001b[0m\u001b[1;33m,\u001b[0m\u001b[1;33m[\u001b[0m\u001b[1;36m300\u001b[0m\u001b[1;33m,\u001b[0m\u001b[1;36m280\u001b[0m\u001b[1;33m]\u001b[0m\u001b[1;33m,\u001b[0m\u001b[1;33m[\u001b[0m\u001b[1;36m150\u001b[0m\u001b[1;33m,\u001b[0m\u001b[1;36m200\u001b[0m\u001b[1;33m]\u001b[0m\u001b[1;33m]\u001b[0m\u001b[1;33m,\u001b[0m\u001b[0mnumpy\u001b[0m\u001b[1;33m.\u001b[0m\u001b[0mint32\u001b[0m\u001b[1;33m)\u001b[0m\u001b[1;33m\u001b[0m\u001b[0m\n\u001b[0m\u001b[1;32m     18\u001b[0m     \u001b[0mcv2\u001b[0m\u001b[1;33m.\u001b[0m\u001b[0mputText\u001b[0m\u001b[1;33m(\u001b[0m\u001b[0mimage\u001b[0m\u001b[1;33m,\u001b[0m\u001b[0mtext\u001b[0m\u001b[1;33m,\u001b[0m\u001b[1;33m(\u001b[0m\u001b[1;36m350\u001b[0m\u001b[1;33m,\u001b[0m\u001b[1;36m300\u001b[0m\u001b[1;33m)\u001b[0m\u001b[1;33m,\u001b[0m\u001b[0mcv2\u001b[0m\u001b[1;33m.\u001b[0m\u001b[0mFONT_HERSHEY_SIMPLEX\u001b[0m\u001b[1;33m,\u001b[0m\u001b[1;36m4\u001b[0m\u001b[1;33m,\u001b[0m\u001b[1;33m(\u001b[0m\u001b[1;36m255\u001b[0m\u001b[1;33m,\u001b[0m\u001b[1;36m0\u001b[0m\u001b[1;33m,\u001b[0m\u001b[1;36m0\u001b[0m\u001b[1;33m)\u001b[0m\u001b[1;33m,\u001b[0m\u001b[1;36m2\u001b[0m\u001b[1;33m)\u001b[0m\u001b[1;33m\u001b[0m\u001b[0m\n\u001b[1;32m     19\u001b[0m     \u001b[0mcv2\u001b[0m\u001b[1;33m.\u001b[0m\u001b[0mnamedWindow\u001b[0m\u001b[1;33m(\u001b[0m\u001b[1;34m\"Image\"\u001b[0m\u001b[1;33m,\u001b[0m\u001b[0mcv2\u001b[0m\u001b[1;33m.\u001b[0m\u001b[0mWINDOW_AUTOSIZE\u001b[0m\u001b[1;33m)\u001b[0m\u001b[1;33m\u001b[0m\u001b[0m\n",
      "\u001b[0;31mNameError\u001b[0m: name 'numpy' is not defined"
     ]
    }
   ],
   "source": [
    "text_image(\"test01.jpg\",\"AAAA\")"
   ]
  },
  {
   "cell_type": "code",
   "execution_count": 3,
   "metadata": {
    "collapsed": false,
    "scrolled": true
   },
   "outputs": [],
   "source": [
    "\"\"\"\n",
    "purpose:輸入圖片並在上面寫字\n",
    "\n",
    "input:圖片路徑,寫上文字\n",
    "\n",
    "output:一張寫上字的圖片\n",
    "\n",
    "ex:text_image(\"test01.jpg\",\"AAAA\")\n",
    "\n",
    "\n",
    "\"\"\"\n",
    "\n",
    "def text_image(image_path,text):\n",
    "    \n",
    "    import cv2\n",
    "    import numpy\n",
    "    image = cv2.imread(image_path,1)\n",
    "    pts = numpy.array([[20,60],[300,280],[150,200]],numpy.int32)\n",
    "    cv2.putText(image,text,(350,300),cv2.FONT_HERSHEY_SIMPLEX,4,(255,0,0),2)\n",
    "    cv2.namedWindow(\"Image\",cv2.WINDOW_AUTOSIZE)\n",
    "\n",
    "    cv2.imshow(\"Image\",image)\n",
    "    cv2.waitKey(3000)\n",
    "    #cv2.imwrite(\"test01.jpg\",image,[int(cv2.IMWRITE_PNG_COMPRESSION),3])#[int(cv2.IMWRITE_JPEG_QUALITY),70]\n",
    "    cv2.destroyWindow(\"Image\") #記得刪除"
   ]
  },
  {
   "cell_type": "code",
   "execution_count": 61,
   "metadata": {
    "collapsed": false
   },
   "outputs": [],
   "source": [
    "\"\"\"\n",
    "purpose:開啟內視鏡頭拍下來存成照片\n",
    "\n",
    "input:要放置資料夾路徑,要命名的檔案名稱\n",
    "\n",
    "output:拍好的jpg檔案\n",
    "\n",
    "cv2.VideoCapture(0):開啟鏡頭 筆電內鍵鏡頭為0\n",
    "\n",
    "k = cv2.waitKey(100):0.1檢查一次，看有無輸入進按鍵(ASCII)碼\n",
    "\n",
    "ord(\"z\"):轉出ASCII編碼\n",
    "\n",
    "ex:image_save(\"media\",\"catch\")\n",
    "\n",
    "\"\"\"\n",
    "def image_save(floder,image_name): \n",
    "\n",
    "    import cv2\n",
    "    cv2.namedWindow(\"save_image\")\n",
    "    cap = cv2.VideoCapture(0)  #開啟攝影機，通常內部數值是0 其他依次為1、2\n",
    "    while(cap.isOpened()):  #只要攝影機為開啟狀態就執行此無窮迴圈，通常等待案件須以無窮迴圈簡直使用者是否按鍵\n",
    "        ret ,img = cap.read() #讀取影像\n",
    "        if ret == True:  #如果讀取成功就在視窗顯示\n",
    "            cv2.imshow(\"save_image\",img)\n",
    "            k = cv2.waitKey(100) #每隔0.1秒檢查一次是否按鍵,並回傳按鍵的ASCII碼\n",
    "            if k == ord(\"z\") or k == ord(\"Z\"): #使用者可能輸入z或是Z 都要檢查\n",
    "                path = floder + \"\\\\\" +image_name +\".jpg\"\n",
    "                cv2.imwrite(path,img)\n",
    "                break  #有輸入zZ就儲存\n",
    "    cap.release() #關閉攝影機,釋放資源\n",
    "    cv2.waitKey(0)\n",
    "    cv2.destroyWindow(\"save_image\")"
   ]
  },
  {
   "cell_type": "code",
   "execution_count": 11,
   "metadata": {
    "collapsed": false,
    "scrolled": true
   },
   "outputs": [
    {
     "name": "stdout",
     "output_type": "stream",
     "text": [
      "按下任意健建立登入者臉譜。\n",
      " 攝影機開啟後按「z」拍照比對!\n",
      "\n",
      "通過驗證，歡迎使用本系統！ 符合指數=47.93\n"
     ]
    }
   ],
   "source": [
    "\n",
    "import cv2,os,math,operator\n",
    "from PIL import Image\n",
    "from functools import reduce\n",
    "\n",
    "casc_path = \"C:\\\\Users\\\\abcdq\\\\Anaconda3\\\\pkgs\\\\opencv3-3.1.0-py35_0\\\\Library\\\\etc\\\\haarcascades\\\\haarcascade_frontalface_default.xml\"\n",
    "faceCascade = cv2.CascadeClassifier(casc_path) #連線演算法,建立辨識物件\n",
    "recogname = \"folder\\\\recogface.jpg\" # 使用者臉部檔案\n",
    "loginname = \"folder\\\\logingace.jpg\" #登入者臉部檔案\n",
    "os.system(\"cls\")#清除螢幕\n",
    "if(os.path.exists(recogname)): #如果使用者臉部檔案已經存在\n",
    "    msg = \"按下任意健建立登入者臉譜。\\n 攝影機開啟後按「z」拍照比對!\"\n",
    "    makeFace(loginname,msg,\"\") #建立登入者臉部檔案\n",
    "\n",
    "        #以下段落為開啟兩張圖片並比對相似度\n",
    "    pic1 = Image.open(recogname) #開啟使用者臉部檔案\n",
    "    pic2 = Image.open(loginname) #開啟登入者臉部檔案\n",
    "    h1 = pic1.histogram() #計算差異程度\n",
    "    h2 = pic2.histogram()\n",
    "    diff = math.sqrt(reduce(operator.add,list(map(lambda a,b:(a-b)**2,h1,h2)))/len(h1)) #產出diff差異性\n",
    "    if(diff<=100): #若差異在100內視為通過驗證 , 此為作者找多朋友測試後設定的數值，可照需求再做調整\n",
    "        print(\"通過驗證，歡迎使用本系統！ 符合指數=%4.2f\"%diff)\n",
    "    else:\n",
    "        print(\"臉譜不正確，無法使用本系統！ 符合指數=%4.2f\"%diff)\n",
    "\n",
    "else: #如果使用者臉部檔案不存在\n",
    "    msg = \"案任意鍵建立使用者臉譜。\\n 攝影機開啟後按「z」拍照！\\n\"\n",
    "    endstr = \"使用者臉譜建立完成！\"\n",
    "    makeFace(recogname,msg,endstr) #建立使用者臉部檔案"
   ]
  },
  {
   "cell_type": "code",
   "execution_count": 21,
   "metadata": {
    "collapsed": true
   },
   "outputs": [],
   "source": [
    "import cv2\n",
    "cv2.destroyWindow(\"frame\")"
   ]
  },
  {
   "cell_type": "code",
   "execution_count": null,
   "metadata": {
    "collapsed": false
   },
   "outputs": [
    {
     "name": "stdout",
     "output_type": "stream",
     "text": [
      "按下任意健建立登入者臉譜。\n",
      " 攝影機開啟後按「z」拍照比對!\n"
     ]
    }
   ],
   "source": [
    "face_id(\"folder\",\"recogface\",\"logingace\")\n"
   ]
  },
  {
   "cell_type": "code",
   "execution_count": 1,
   "metadata": {
    "collapsed": false
   },
   "outputs": [],
   "source": [
    "\"\"\"\n",
    "purpose:臉部辨識認證登入\n",
    "\n",
    "input:存放資料夾路徑(要存在),存放辨識用圖片名稱,登入用暫存圖片名稱\n",
    "\n",
    "output:回傳一個符合指數告知相似度\n",
    "\n",
    "\n",
    "自訂方法:makeFace()\n",
    "\n",
    "ex:face_id(\"floder\",\"recogface\",\"logingace\")\n",
    "\n",
    "\"\"\"\n",
    "\n",
    "def face_id(save_path,recogface,logingace):\n",
    "    \n",
    "    import cv2,os,math,operator\n",
    "    from PIL import Image\n",
    "    from functools import reduce\n",
    "\n",
    "    casc_path = \"C:\\\\Users\\\\abcdq\\\\Anaconda3\\\\pkgs\\\\opencv3-3.1.0-py35_0\\\\Library\\\\etc\\\\haarcascades\\\\haarcascade_frontalface_default.xml\"\n",
    "    faceCascade = cv2.CascadeClassifier(casc_path) #連線演算法,建立辨識物件\n",
    "    recogname = save_path+\"\\\\\"+recogface+\".jpg\" # 使用者臉部檔案\n",
    "    loginname = save_path+\"\\\\\"+logingace+\".jpg\" #登入者臉部檔案\n",
    "    os.system(\"cls\")#清除螢幕\n",
    "    if(os.path.exists(recogname)): #如果使用者臉部檔案已經存在\n",
    "        msg = \"按下任意健建立登入者臉譜。\\n 攝影機開啟後按「z」拍照比對!\"\n",
    "        makeFace(loginname,msg,\"\") #建立登入者臉部檔案\n",
    "\n",
    "        #以下段落為開啟兩張圖片並比對相似度\n",
    "        pic1 = Image.open(recogname) #開啟使用者臉部檔案\n",
    "        pic2 = Image.open(loginname) #開啟登入者臉部檔案\n",
    "        h1 = pic1.histogram() #計算差異程度\n",
    "        h2 = pic2.histogram()\n",
    "        diff = math.sqrt(reduce(operator.add,list(map(lambda a,b:(a-b)**2,h1,h2)))/len(h1)) #產出diff差異性\n",
    "        if(diff<=100): #若差異在100內視為通過驗證 , 此為作者找多朋友測試後設定的數值，可照需求再做調整\n",
    "            print(\"通過驗證，歡迎使用本系統！ 符合指數=%4.2f\"%diff)\n",
    "        else:\n",
    "            print(\"臉譜不正確，無法使用本系統！ 符合指數=%4.2f\"%diff)\n",
    "\n",
    "    else: #如果使用者臉部檔案不存在\n",
    "        msg = \"案任意鍵建立使用者臉譜。\\n 攝影機開啟後按「z」拍照！\\n\"\n",
    "        endstr = \"使用者臉譜建立完成！\"\n",
    "        makeFace(recogname,msg,endstr) #建立使用者臉部檔案"
   ]
  },
  {
   "cell_type": "code",
   "execution_count": 4,
   "metadata": {
    "collapsed": false
   },
   "outputs": [],
   "source": [
    "\"\"\"\n",
    "purpose:開啟攝影機並擷取畫面一張臉孔並存進路徑檔案          @支援face_id()\n",
    "\n",
    "input:欲新增檔案之路徑,程式碼開跑前訊息,程式碼結束後訊息\n",
    "\n",
    "output:存圖片進指定路徑,打印出開始與成功訊息\n",
    "\n",
    "faceCascade.detectMultiScale()演算法擷取畫面的臉孔照片 但這裡只取(第)一張\n",
    "\n",
    "\"\"\"\n",
    "\n",
    "def makeFace(facename,msg,endstr):\n",
    "    \n",
    "    import numpy\n",
    "    import cv2\n",
    "    from PIL import Image\n",
    "    \n",
    "    casc_path = \"C:\\\\Users\\\\abcdq\\\\Anaconda3\\\\pkgs\\\\opencv3-3.1.0-py35_0\\\\Library\\\\etc\\\\haarcascades\\\\haarcascade_frontalface_default.xml\"\n",
    "    faceCascade = cv2.CascadeClassifier(casc_path) #連線演算法,建立辨識物件\n",
    "    \n",
    "    print(msg) #顯示提示訊息  → \"按下任意健建立登入者臉譜...\n",
    "    cv2.namedWindow(\"frame\")\n",
    "    cv2.waitKey(0)\n",
    "    cap = cv2.VideoCapture(0) #開啟攝影機\n",
    "    while(cap.isOpened()): #攝影機為開啟狀態\n",
    "        ret,img = cap.read() #回傳兩個參數 前者結果碼(成功or失敗) 後者圖片檔\n",
    "        if ret == True:  # 讀取成功\n",
    "            cv2.imshow(\"frame\",img) #顯示影像\n",
    "            k = cv2.waitKey(100) #每0.1秒讀一次鍵盤 看有無按下鍵 k \n",
    "            \n",
    "            \n",
    "            if k == ord(\"z\") or k == ord(\"Z\"): #使用z or Z\n",
    "                \n",
    "                cv2.imwrite(facename,img) #存檔\n",
    "                image = cv2.imread(facename) #讀取做臉部辨識\n",
    "                faces = faceCascade.detectMultiScale(image,scaleFactor=1.1,minNeighbors=5,minSize=(30,30),flags= cv2.CASCADE_SCALE_IMAGE)\n",
    "                (x, y, w, h) =(faces[0][0], faces[0][1], faces[0][2], faces[0][3]) #只取第一張臉部\n",
    "\n",
    "                image1 = Image.open(facename).crop((x,y,x+w,y+h)) #擷取臉部\n",
    "                image1 = image1.resize((200,200),Image.ANTIALIAS) #轉為解析度 200x200\n",
    "                image1.save(facename) #存檔\n",
    "                break\n",
    "            \n",
    "    cap.release() #關閉式影機,釋放資源\n",
    "    cv2.destroyAllWindows()\n",
    "    print(endstr) #顯示結束字串\n",
    "    return"
   ]
  },
  {
   "cell_type": "code",
   "execution_count": null,
   "metadata": {
    "collapsed": true
   },
   "outputs": [],
   "source": []
  }
 ],
 "metadata": {
  "anaconda-cloud": {},
  "kernelspec": {
   "display_name": "Python [conda root]",
   "language": "python",
   "name": "conda-root-py"
  },
  "language_info": {
   "codemirror_mode": {
    "name": "ipython",
    "version": 3
   },
   "file_extension": ".py",
   "mimetype": "text/x-python",
   "name": "python",
   "nbconvert_exporter": "python",
   "pygments_lexer": "ipython3",
   "version": "3.5.2"
  }
 },
 "nbformat": 4,
 "nbformat_minor": 1
}
